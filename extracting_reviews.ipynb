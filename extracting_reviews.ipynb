{
 "cells": [
  {
   "cell_type": "code",
   "execution_count": 1,
   "id": "a6ac0156",
   "metadata": {},
   "outputs": [],
   "source": [
    "import re\n",
    "import csv\n",
    "import math\n",
    "import uuid\n",
    "import requests\n",
    "from bs4 import BeautifulSoup"
   ]
  },
  {
   "cell_type": "code",
   "execution_count": 2,
   "id": "853acd6a",
   "metadata": {},
   "outputs": [],
   "source": [
    "url = \"https://www.amazon.in/HP-RX5500M-Graphics-Flicker-16-e0162AX/product-reviews/B098QBT5KT/ref=cm_cr_dp_d_show_all_btm?ie=UTF8&reviewerType=all_reviews\"\n",
    "url = url + '&pageNumber=1'\n",
    "headers = { 'User-Agent': 'Mozilla/5.0 (Macintosh; Intel Mac OS X 10.12; rv:55.0) Gecko/20100101 Firefox/55.0'}\n",
    "\n",
    "column_header = ['unique id', 'name', 'rating', 'votes', 'title', 'location', 'date', 'genuinity', 'description']"
   ]
  },
  {
   "cell_type": "code",
   "execution_count": 3,
   "id": "5a9506bb",
   "metadata": {},
   "outputs": [],
   "source": [
    "def review_extractor(url, file_name, headers, column_header):\n",
    "    source = requests.get(url, headers=headers)\n",
    "    soup = BeautifulSoup(source.text, 'lxml')\n",
    "\n",
    "    review_count = soup.find(class_=\"a-row a-spacing-base a-size-base\").text\n",
    "    pattern = r'[0-9]+'\n",
    "    review_count = int(re.findall(pattern, review_count)[1])\n",
    "\n",
    "    total_review_pages = math.ceil(review_count / 10)\n",
    "\n",
    "    csv_file = open(r\"reviews.csv\", 'a', newline='', encoding='utf-8')\n",
    "    csv_writer = csv.writer(csv_file)\n",
    "    csv_writer.writerow(column_header)\n",
    "\n",
    "    loc_pat = r'[A-Z][a-z]+'\n",
    "    date_pat = r'[0-9]{1,2}\\s[A-Z][a-z]+\\s[0-9]+'\n",
    "    vote_pat = r'[0-9]+|[A-Z][a-z]+'\n",
    "\n",
    "    print(\"Extracting:- \")\n",
    "    for index, page in enumerate(range(total_review_pages), start=1):\n",
    "        url_ = url[:-1] + str(index)        \n",
    "        source = requests.get(url_, headers=headers).text\n",
    "        soup = BeautifulSoup(source, 'lxml')\n",
    "        print(url_)\n",
    "        reviews = soup.find_all(class_=\"a-section celwidget\")\n",
    "\n",
    "        for review in reviews:\n",
    "            name = review.find(class_='a-profile-name').text\n",
    "            rating = review.find(class_='a-icon-alt').text\n",
    "            title = review.find(class_=\"a-size-base a-link-normal review-title a-color-base review-title-content a-text-bold\").text\n",
    "            date_place = review.find(class_=\"a-size-base a-color-secondary review-date\").text\n",
    "            loc = re.findall(loc_pat, date_place)[1]\n",
    "            date = re.findall(date_pat, date_place)[0]\n",
    "            try: genuine = review.find(class_=\"a-size-mini a-color-state a-text-bold\").text\n",
    "            except: genuine = ''\n",
    "            try: \n",
    "                votes = review.find('span', class_=\"a-size-base a-color-tertiary cr-vote-text\").text\n",
    "                votes = re.findall(vote_pat, votes)[0]\n",
    "            except: \n",
    "                votes = ''\n",
    "            unique_id = uuid.uuid4().fields[2]\n",
    "            desciption = review.find(class_=\"a-size-base review-text review-text-content\").text\n",
    "            variables = [unique_id, name, rating[:3], votes[:3], title.strip(), loc, date, genuine, desciption.strip()]\n",
    "            csv_writer.writerow(variables)\n",
    "\n",
    "    csv_file.close()\n",
    "    return \"Successfully extracted reviews to the csv file\""
   ]
  },
  {
   "cell_type": "code",
   "execution_count": 4,
   "id": "cb1dc8b0",
   "metadata": {},
   "outputs": [
    {
     "name": "stdout",
     "output_type": "stream",
     "text": [
      "Extracting:- \n",
      "https://www.amazon.in/HP-RX5500M-Graphics-Flicker-16-e0162AX/product-reviews/B098QBT5KT/ref=cm_cr_dp_d_show_all_btm?ie=UTF8&reviewerType=all_reviews&pageNumber=1\n",
      "https://www.amazon.in/HP-RX5500M-Graphics-Flicker-16-e0162AX/product-reviews/B098QBT5KT/ref=cm_cr_dp_d_show_all_btm?ie=UTF8&reviewerType=all_reviews&pageNumber=2\n",
      "https://www.amazon.in/HP-RX5500M-Graphics-Flicker-16-e0162AX/product-reviews/B098QBT5KT/ref=cm_cr_dp_d_show_all_btm?ie=UTF8&reviewerType=all_reviews&pageNumber=3\n",
      "https://www.amazon.in/HP-RX5500M-Graphics-Flicker-16-e0162AX/product-reviews/B098QBT5KT/ref=cm_cr_dp_d_show_all_btm?ie=UTF8&reviewerType=all_reviews&pageNumber=4\n",
      "https://www.amazon.in/HP-RX5500M-Graphics-Flicker-16-e0162AX/product-reviews/B098QBT5KT/ref=cm_cr_dp_d_show_all_btm?ie=UTF8&reviewerType=all_reviews&pageNumber=5\n",
      "https://www.amazon.in/HP-RX5500M-Graphics-Flicker-16-e0162AX/product-reviews/B098QBT5KT/ref=cm_cr_dp_d_show_all_btm?ie=UTF8&reviewerType=all_reviews&pageNumber=6\n",
      "https://www.amazon.in/HP-RX5500M-Graphics-Flicker-16-e0162AX/product-reviews/B098QBT5KT/ref=cm_cr_dp_d_show_all_btm?ie=UTF8&reviewerType=all_reviews&pageNumber=7\n",
      "https://www.amazon.in/HP-RX5500M-Graphics-Flicker-16-e0162AX/product-reviews/B098QBT5KT/ref=cm_cr_dp_d_show_all_btm?ie=UTF8&reviewerType=all_reviews&pageNumber=8\n",
      "https://www.amazon.in/HP-RX5500M-Graphics-Flicker-16-e0162AX/product-reviews/B098QBT5KT/ref=cm_cr_dp_d_show_all_btm?ie=UTF8&reviewerType=all_reviews&pageNumber=9\n",
      "https://www.amazon.in/HP-RX5500M-Graphics-Flicker-16-e0162AX/product-reviews/B098QBT5KT/ref=cm_cr_dp_d_show_all_btm?ie=UTF8&reviewerType=all_reviews&pageNumber=10\n",
      "https://www.amazon.in/HP-RX5500M-Graphics-Flicker-16-e0162AX/product-reviews/B098QBT5KT/ref=cm_cr_dp_d_show_all_btm?ie=UTF8&reviewerType=all_reviews&pageNumber=11\n",
      "https://www.amazon.in/HP-RX5500M-Graphics-Flicker-16-e0162AX/product-reviews/B098QBT5KT/ref=cm_cr_dp_d_show_all_btm?ie=UTF8&reviewerType=all_reviews&pageNumber=12\n",
      "https://www.amazon.in/HP-RX5500M-Graphics-Flicker-16-e0162AX/product-reviews/B098QBT5KT/ref=cm_cr_dp_d_show_all_btm?ie=UTF8&reviewerType=all_reviews&pageNumber=13\n",
      "https://www.amazon.in/HP-RX5500M-Graphics-Flicker-16-e0162AX/product-reviews/B098QBT5KT/ref=cm_cr_dp_d_show_all_btm?ie=UTF8&reviewerType=all_reviews&pageNumber=14\n",
      "https://www.amazon.in/HP-RX5500M-Graphics-Flicker-16-e0162AX/product-reviews/B098QBT5KT/ref=cm_cr_dp_d_show_all_btm?ie=UTF8&reviewerType=all_reviews&pageNumber=15\n",
      "https://www.amazon.in/HP-RX5500M-Graphics-Flicker-16-e0162AX/product-reviews/B098QBT5KT/ref=cm_cr_dp_d_show_all_btm?ie=UTF8&reviewerType=all_reviews&pageNumber=16\n",
      "https://www.amazon.in/HP-RX5500M-Graphics-Flicker-16-e0162AX/product-reviews/B098QBT5KT/ref=cm_cr_dp_d_show_all_btm?ie=UTF8&reviewerType=all_reviews&pageNumber=17\n",
      "https://www.amazon.in/HP-RX5500M-Graphics-Flicker-16-e0162AX/product-reviews/B098QBT5KT/ref=cm_cr_dp_d_show_all_btm?ie=UTF8&reviewerType=all_reviews&pageNumber=18\n",
      "https://www.amazon.in/HP-RX5500M-Graphics-Flicker-16-e0162AX/product-reviews/B098QBT5KT/ref=cm_cr_dp_d_show_all_btm?ie=UTF8&reviewerType=all_reviews&pageNumber=19\n",
      "https://www.amazon.in/HP-RX5500M-Graphics-Flicker-16-e0162AX/product-reviews/B098QBT5KT/ref=cm_cr_dp_d_show_all_btm?ie=UTF8&reviewerType=all_reviews&pageNumber=20\n",
      "https://www.amazon.in/HP-RX5500M-Graphics-Flicker-16-e0162AX/product-reviews/B098QBT5KT/ref=cm_cr_dp_d_show_all_btm?ie=UTF8&reviewerType=all_reviews&pageNumber=21\n",
      "https://www.amazon.in/HP-RX5500M-Graphics-Flicker-16-e0162AX/product-reviews/B098QBT5KT/ref=cm_cr_dp_d_show_all_btm?ie=UTF8&reviewerType=all_reviews&pageNumber=22\n",
      "https://www.amazon.in/HP-RX5500M-Graphics-Flicker-16-e0162AX/product-reviews/B098QBT5KT/ref=cm_cr_dp_d_show_all_btm?ie=UTF8&reviewerType=all_reviews&pageNumber=23\n",
      "https://www.amazon.in/HP-RX5500M-Graphics-Flicker-16-e0162AX/product-reviews/B098QBT5KT/ref=cm_cr_dp_d_show_all_btm?ie=UTF8&reviewerType=all_reviews&pageNumber=24\n",
      "https://www.amazon.in/HP-RX5500M-Graphics-Flicker-16-e0162AX/product-reviews/B098QBT5KT/ref=cm_cr_dp_d_show_all_btm?ie=UTF8&reviewerType=all_reviews&pageNumber=25\n",
      "https://www.amazon.in/HP-RX5500M-Graphics-Flicker-16-e0162AX/product-reviews/B098QBT5KT/ref=cm_cr_dp_d_show_all_btm?ie=UTF8&reviewerType=all_reviews&pageNumber=26\n",
      "https://www.amazon.in/HP-RX5500M-Graphics-Flicker-16-e0162AX/product-reviews/B098QBT5KT/ref=cm_cr_dp_d_show_all_btm?ie=UTF8&reviewerType=all_reviews&pageNumber=27\n",
      "https://www.amazon.in/HP-RX5500M-Graphics-Flicker-16-e0162AX/product-reviews/B098QBT5KT/ref=cm_cr_dp_d_show_all_btm?ie=UTF8&reviewerType=all_reviews&pageNumber=28\n",
      "https://www.amazon.in/HP-RX5500M-Graphics-Flicker-16-e0162AX/product-reviews/B098QBT5KT/ref=cm_cr_dp_d_show_all_btm?ie=UTF8&reviewerType=all_reviews&pageNumber=29\n"
     ]
    },
    {
     "data": {
      "text/plain": [
       "'Successfully extracted reviews to the csv file'"
      ]
     },
     "execution_count": 4,
     "metadata": {},
     "output_type": "execute_result"
    }
   ],
   "source": [
    "review_extractor(url, 'sample.csv', headers, column_header)"
   ]
  },
  {
   "cell_type": "code",
   "execution_count": null,
   "id": "89f41a1f",
   "metadata": {
    "scrolled": true
   },
   "outputs": [],
   "source": []
  },
  {
   "cell_type": "code",
   "execution_count": null,
   "id": "4f75c096",
   "metadata": {},
   "outputs": [],
   "source": []
  }
 ],
 "metadata": {
  "kernelspec": {
   "display_name": "Python 3 (ipykernel)",
   "language": "python",
   "name": "python3"
  },
  "language_info": {
   "codemirror_mode": {
    "name": "ipython",
    "version": 3
   },
   "file_extension": ".py",
   "mimetype": "text/x-python",
   "name": "python",
   "nbconvert_exporter": "python",
   "pygments_lexer": "ipython3",
   "version": "3.9.13"
  }
 },
 "nbformat": 4,
 "nbformat_minor": 5
}
